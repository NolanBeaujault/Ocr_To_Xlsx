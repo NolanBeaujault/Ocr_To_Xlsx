{
 "cells": [
  {
   "cell_type": "markdown",
   "metadata": {},
   "source": [
    "<div style=\"text-align: center; color: white; padding: 20px;\">\n",
    "  <h1><strong>OCR Recognition with OpenCV and Tesseract to an Excel File</strong></h1>\n",
    "</div>"
   ]
  },
  {
   "cell_type": "markdown",
   "metadata": {},
   "source": [
    "<!DOCTYPE html>\n",
    "<html lang=\"fr\">\n",
    "<head>\n",
    "    <meta charset=\"UTF-8\">\n",
    "    <meta name=\"viewport\" content=\"width=device-width, initial-scale=1.0\">\n",
    "    <title>Document</title>\n",
    "    <style>\n",
    "        .image-container {\n",
    "            float: right;\n",
    "            width: 150px; /* Ajustez la largeur selon vos besoins */\n",
    "            margin-left: 20px; /* Espace entre l'image et le texte */\n",
    "        }\n",
    "        .sommaire {\n",
    "            color: white;\n",
    "        }\n",
    "    </style>\n",
    "</head>\n",
    "<body>\n",
    "    <div class=\"sommaire\">\n",
    "        <div class=\"image-container\">\n",
    "            <img src=\"./img/OpenCV-01.png\" alt=\"Texte alternatif\" style=\"width: 100%;\">\n",
    "        </div>\n",
    "        <h1><strong>Summary</strong></h1>\n",
    "        <ol>\n",
    "            <li>Import necessary libraries and configure Tesseract</li>\n",
    "            <li>Load the image and convert to grayscale</li>\n",
    "            <li>Some image processing</li>\n",
    "            <li>Data extraction</li>\n",
    "            <li>Result</li>\n",
    "        </ol>\n",
    "    </div>\n",
    "</body>\n",
    "</html>"
   ]
  },
  {
   "cell_type": "markdown",
   "metadata": {},
   "source": [
    "<div style=\"color: white;\">\n",
    "<h3>\n",
    "1. Import necessary libraries and configure Tesseract\n",
    "   </h3>\n",
    "</div>"
   ]
  },
  {
   "cell_type": "code",
   "execution_count": 14,
   "metadata": {},
   "outputs": [],
   "source": [
    "# Import necessary libraries\n",
    "import cv2\n",
    "import pytesseract\n",
    "import pandas as pd\n",
    "import csv\n",
    "\n",
    "# Configure Tesseract\n",
    "pytesseract.pytesseract.tesseract_cmd = r'C:\\Users\\beaujaun\\AppData\\Local\\Programs\\Tesseract-OCR\\tesseract.exe'  # Modify the path if necessary"
   ]
  },
  {
   "cell_type": "markdown",
   "metadata": {},
   "source": [
    "<div style=\"color: white;\">\n",
    "<h3>\n",
    "2. Define the function to analyze the image\n",
    "   </h3>\n",
    "</div>"
   ]
  },
  {
   "cell_type": "code",
   "execution_count": 27,
   "metadata": {},
   "outputs": [],
   "source": [
    "def analyze_image(image_path, output_csv):\n",
    "    # Read the image\n",
    "    image = cv2.imread(image_path)\n",
    "    \n",
    "    # Convert the image to grayscale\n",
    "    gray = cv2.cvtColor(image, cv2.COLOR_BGR2GRAY)\n",
    "    \n",
    "    # Apply thresholding to improve text recognition\n",
    "    _, thresh = cv2.threshold(gray, 150, 255, cv2.THRESH_BINARY_INV)\n",
    "    \n",
    "    # Use pytesseract to extract text\n",
    "    text = pytesseract.image_to_string(thresh)\n",
    "    \n",
    "    # Write the text to a CSV file\n",
    "    with open(output_csv, mode='w', newline='', encoding='utf-8') as file:\n",
    "        writer = csv.writer(file)\n",
    "        writer.writerow(['Image Path', 'Extracted Text'])\n",
    "        writer.writerow([image_path, text])"
   ]
  },
  {
   "cell_type": "markdown",
   "metadata": {},
   "source": [
    "<div style=\"color: white;\">\n",
    "<h3>\n",
    "3. Example usage\n",
    "   </h3>\n",
    "</div>"
   ]
  },
  {
   "cell_type": "code",
   "execution_count": 28,
   "metadata": {},
   "outputs": [],
   "source": [
    "# Example usage\n",
    "image_path = './img/trainingOCR.jpg'\n",
    "output_csv = './excel/OCR.csv'\n",
    "analyze_image(image_path, output_csv)"
   ]
  },
  {
   "cell_type": "markdown",
   "metadata": {},
   "source": [
    "<div style=\"color: white;\">\n",
    "<h3>\n",
    "4. CSV to XLSX\n",
    "   </h3>\n",
    "</div>"
   ]
  },
  {
   "cell_type": "code",
   "execution_count": 33,
   "metadata": {},
   "outputs": [
    {
     "name": "stdout",
     "output_type": "stream",
     "text": [
      "The CSV file has been successfully converted to an Excel file: ./excel/OCR.xlsx\n"
     ]
    }
   ],
   "source": [
    "# Path to the CSV file\n",
    "csv_file_path = './excel/OCR.csv'\n",
    "\n",
    "# Path to the output Excel file\n",
    "excel_file_path = './excel/OCR.xlsx'\n",
    "\n",
    "# Read the CSV file\n",
    "df = pd.read_csv(csv_file_path, delimiter=',', quotechar='\"', encoding='utf-8')\n",
    "\n",
    "# Create an Excel writer object\n",
    "with pd.ExcelWriter(excel_file_path, engine='openpyxl') as writer:\n",
    "    df.to_excel(writer, index=False, sheet_name='Sheet1')\n",
    "\n",
    "    # Access the workbook and worksheet\n",
    "    workbook  = writer.book\n",
    "    worksheet = writer.sheets['Sheet1']\n",
    "\n",
    "    # Set column width for better visibility\n",
    "    for col in worksheet.columns:\n",
    "        max_length = 0\n",
    "        column = col[0].column_letter # Get the column name\n",
    "        for cell in col:\n",
    "            try:\n",
    "                if len(str(cell.value)) > max_length:\n",
    "                    max_length = len(cell.value)\n",
    "            except:\n",
    "                pass\n",
    "        adjusted_width = (max_length + 2)\n",
    "        worksheet.column_dimensions[column].width = adjusted_width\n",
    "\n",
    "print(f\"The CSV file has been successfully converted to an Excel file: {excel_file_path}\")\n"
   ]
  },
  {
   "cell_type": "markdown",
   "metadata": {},
   "source": [
    "<p align=\"center\">\n",
    "  <img src=\"./img/trainingOCR.jpg\" alt=\"Image 1\" width=\"700\" />\n",
    "</p>\n",
    "<p align=\"center\">\n",
    "  <img src=\"./img/OCRresult.jpg\" alt=\"Image 2\" width=\"600\" />\n",
    "</p>\n",
    "\n"
   ]
  },
  {
   "cell_type": "markdown",
   "metadata": {},
   "source": [
    "Not really efficient :/"
   ]
  }
 ],
 "metadata": {
  "interpreter": {
   "hash": "cd58b872f1b0bd1e0d2f8a08bf97d40d0d2cea1347b7b1fc11fd326cf1a1000a"
  },
  "kernelspec": {
   "display_name": "Python 3.12.4 ('base')",
   "language": "python",
   "name": "python3"
  },
  "language_info": {
   "codemirror_mode": {
    "name": "ipython",
    "version": 3
   },
   "file_extension": ".py",
   "mimetype": "text/x-python",
   "name": "python",
   "nbconvert_exporter": "python",
   "pygments_lexer": "ipython3",
   "version": "3.12.4"
  },
  "orig_nbformat": 4
 },
 "nbformat": 4,
 "nbformat_minor": 2
}
