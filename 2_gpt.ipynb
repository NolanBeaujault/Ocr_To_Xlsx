{
 "cells": [
  {
   "cell_type": "markdown",
   "metadata": {},
   "source": [
    "<div style=\"text-align: center; color: white; padding: 20px;\">\n",
    "  <h1><strong>CSV Data Processing with ChatGPT</strong></h1>\n",
    "</div>"
   ]
  },
  {
   "cell_type": "markdown",
   "metadata": {},
   "source": [
    "<!DOCTYPE html>\n",
    "<html lang=\"fr\">\n",
    "<head>\n",
    "    <meta charset=\"UTF-8\">\n",
    "    <meta name=\"viewport\" content=\"width=device-width, initial-scale=1.0\">\n",
    "    <title>Document</title>\n",
    "    <style>\n",
    "        .image-container {\n",
    "            float: right;\n",
    "            width: 150px; /* Ajustez la largeur selon vos besoins */\n",
    "            margin-left: 20px; /* Espace entre l'image et le texte */\n",
    "        }\n",
    "        .sommaire {\n",
    "            color: white;\n",
    "        }\n",
    "    </style>\n",
    "</head>\n",
    "<body>\n",
    "    <div class=\"sommaire\">\n",
    "        <h1><strong>Summary</strong></h1>\n",
    "        <ol>\n",
    "            <li>Import necessary libraries</li>\n",
    "            <li>Define file paths</li>\n",
    "            <li>Read and clean CSV file</li>\n",
    "            <li>Analyze CSV file for column inconsistencies</li>\n",
    "            <li>Convert cleaned CSV to Excel</li>\n",
    "        </ol>\n",
    "    </div>\n",
    "</body>\n",
    "</html>"
   ]
  },
  {
   "cell_type": "markdown",
   "metadata": {},
   "source": [
    "<div style=\"color: white;\">\n",
    "<h3>\n",
    "1. Import necessary libraries\n",
    "   </h3>\n",
    "</div>"
   ]
  },
  {
   "cell_type": "code",
   "execution_count": 2,
   "metadata": {},
   "outputs": [],
   "source": [
    "import pandas as pd\n",
    "import csv"
   ]
  },
  {
   "cell_type": "markdown",
   "metadata": {},
   "source": [
    "<div style=\"color: white;\">\n",
    "<h3>\n",
    "2. Define file paths\n",
    "   </h3>\n",
    "</div>"
   ]
  },
  {
   "cell_type": "code",
   "execution_count": 3,
   "metadata": {},
   "outputs": [],
   "source": [
    "# Path to the CSV file\n",
    "csv_file_path = './excel/gpt.csv'\n",
    "\n",
    "# Path to the cleaned CSV file\n",
    "cleaned_csv_file_path = './excel/gpt_clean.csv'\n",
    "\n",
    "# Path to the output Excel file\n",
    "excel_file_path = './excel/gpt.xlsx'\n"
   ]
  },
  {
   "cell_type": "markdown",
   "metadata": {},
   "source": [
    "<div style=\"color: white;\">\n",
    "<h3>\n",
    "3. Read and clean CSV file\n",
    "   </h3>\n",
    "</div>"
   ]
  },
  {
   "cell_type": "code",
   "execution_count": 4,
   "metadata": {},
   "outputs": [
    {
     "name": "stdout",
     "output_type": "stream",
     "text": [
      "The CSV file has been successfully loaded.\n"
     ]
    }
   ],
   "source": [
    "try:\n",
    "    # Read the CSV file line by line to diagnose errors\n",
    "    with open(csv_file_path, 'r', encoding='utf-8') as file:\n",
    "        lines = file.readlines()\n",
    "\n",
    "    # Detect lines with an incorrect number of columns\n",
    "    num_columns = len(lines[0].split(','))\n",
    "    valid_lines = [line for line in lines if len(line.split(',')) == num_columns]\n",
    "\n",
    "    # Save the valid lines to a new CSV file\n",
    "    with open(cleaned_csv_file_path, 'w', encoding='utf-8') as file:\n",
    "        file.writelines(valid_lines)\n",
    "\n",
    "    # Read the cleaned CSV file\n",
    "    df = pd.read_csv(cleaned_csv_file_path)\n",
    "    print(\"The CSV file has been successfully loaded.\")\n",
    "except pd.errors.ParserError as e:\n",
    "    print(f\"Error reading the CSV file: {e}\")\n",
    "except Exception as e:\n",
    "    print(f\"An error occurred: {e}\")\n"
   ]
  },
  {
   "cell_type": "markdown",
   "metadata": {},
   "source": [
    "<div style=\"color: white;\">\n",
    "<h3>\n",
    "4. Analyze CSV file for column inconsistencies\n",
    "   </h3>\n",
    "</div>"
   ]
  },
  {
   "cell_type": "code",
   "execution_count": 5,
   "metadata": {},
   "outputs": [
    {
     "name": "stdout",
     "output_type": "stream",
     "text": [
      "Expected number of columns: 11\n",
      "Line 1: 11 columns (OK)\n",
      "Line 2: 11 columns (OK)\n",
      "Line 3: 11 columns (OK)\n",
      "Line 4: 11 columns (OK)\n",
      "Line 5: 11 columns (OK)\n",
      "Line 6: 11 columns (OK)\n",
      "Line 7: 11 columns (OK)\n",
      "Line 8: 11 columns (OK)\n",
      "Line 9: 11 columns (OK)\n",
      "Line 10: 11 columns (OK)\n"
     ]
    }
   ],
   "source": [
    "def analyze_csv(file_path):\n",
    "    with open(file_path, 'r', encoding='utf-8') as file:\n",
    "        reader = csv.reader(file)\n",
    "        lines = list(reader)\n",
    "        \n",
    "        # Expected number of columns (based on the first line)\n",
    "        expected_num_columns = len(lines[0])\n",
    "        print(f\"Expected number of columns: {expected_num_columns}\")\n",
    "        \n",
    "        # Analyze each line\n",
    "        for i, line in enumerate(lines):\n",
    "            num_columns = len(line)\n",
    "            if num_columns != expected_num_columns:\n",
    "                print(f\"Inconsistency found at line {i+1}: {num_columns} columns (expected: {expected_num_columns})\")\n",
    "            else:\n",
    "                print(f\"Line {i+1}: {num_columns} columns (OK)\")\n",
    "\n",
    "# Analyze the CSV file\n",
    "analyze_csv(cleaned_csv_file_path)\n"
   ]
  },
  {
   "cell_type": "markdown",
   "metadata": {},
   "source": [
    "<div style=\"color: white;\">\n",
    "<h3>\n",
    "5. Convert cleaned CSV to Excel\n",
    "   </h3>\n",
    "</div>"
   ]
  },
  {
   "cell_type": "code",
   "execution_count": 6,
   "metadata": {},
   "outputs": [
    {
     "name": "stdout",
     "output_type": "stream",
     "text": [
      "The Excel file has been successfully created: ./excel/gpt.xlsx\n"
     ]
    }
   ],
   "source": [
    "# Read the cleaned CSV file\n",
    "df = pd.read_csv(cleaned_csv_file_path)\n",
    "\n",
    "# Save the DataFrame to an Excel file\n",
    "df.to_excel(excel_file_path, index=False)\n",
    "\n",
    "print(f\"The Excel file has been successfully created: {excel_file_path}\")\n"
   ]
  }
 ],
 "metadata": {
  "interpreter": {
   "hash": "cd58b872f1b0bd1e0d2f8a08bf97d40d0d2cea1347b7b1fc11fd326cf1a1000a"
  },
  "kernelspec": {
   "display_name": "Python 3.12.4 ('base')",
   "language": "python",
   "name": "python3"
  },
  "language_info": {
   "codemirror_mode": {
    "name": "ipython",
    "version": 3
   },
   "file_extension": ".py",
   "mimetype": "text/x-python",
   "name": "python",
   "nbconvert_exporter": "python",
   "pygments_lexer": "ipython3",
   "version": "3.12.4"
  },
  "orig_nbformat": 4
 },
 "nbformat": 4,
 "nbformat_minor": 2
}
